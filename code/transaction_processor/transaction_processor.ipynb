{
 "cells": [
  {
   "cell_type": "code",
   "execution_count": 99,
   "metadata": {
    "tags": []
   },
   "outputs": [],
   "source": [
    "from web3 import Web3, Account"
   ]
  },
  {
   "cell_type": "code",
   "execution_count": 100,
   "metadata": {},
   "outputs": [],
   "source": [
    "local_ganache_http_provider = 'HTTP://127.0.0.1:7545'"
   ]
  },
  {
   "cell_type": "code",
   "execution_count": 101,
   "metadata": {},
   "outputs": [],
   "source": [
    "w3=Web3(Web3.HTTPProvider(local_ganache_http_provider))"
   ]
  },
  {
   "cell_type": "code",
   "execution_count": 102,
   "metadata": {},
   "outputs": [
    {
     "data": {
      "text/plain": [
       "AttributeDict({'number': 0,\n",
       " 'hash': HexBytes('0x01924abfdc4667a545406c8936e0005b28ca941af606d8c8145ca8f4f9f8f893'),\n",
       " 'parentHash': HexBytes('0x0000000000000000000000000000000000000000000000000000000000000000'),\n",
       " 'mixHash': HexBytes('0x0000000000000000000000000000000000000000000000000000000000000000'),\n",
       " 'nonce': HexBytes('0x0000000000000000'),\n",
       " 'sha3Uncles': HexBytes('0x1dcc4de8dec75d7aab85b567b6ccd41ad312451b948a7413f0a142fd40d49347'),\n",
       " 'logsBloom': HexBytes('0x00000000000000000000000000000000000000000000000000000000000000000000000000000000000000000000000000000000000000000000000000000000000000000000000000000000000000000000000000000000000000000000000000000000000000000000000000000000000000000000000000000000000000000000000000000000000000000000000000000000000000000000000000000000000000000000000000000000000000000000000000000000000000000000000000000000000000000000000000000000000000000000000000000000000000000000000000000000000000000000000000000000000000000000000000000000'),\n",
       " 'transactionsRoot': HexBytes('0x56e81f171bcc55a6ff8345e692c0f86e5b48e01b996cadc001622fb5e363b421'),\n",
       " 'stateRoot': HexBytes('0xa2b40f3d9a452ce4bc75b6a6848644c65bc479de6b7d123c5fcd5acd0b52b025'),\n",
       " 'receiptsRoot': HexBytes('0x56e81f171bcc55a6ff8345e692c0f86e5b48e01b996cadc001622fb5e363b421'),\n",
       " 'miner': '0x0000000000000000000000000000000000000000',\n",
       " 'difficulty': 0,\n",
       " 'totalDifficulty': 0,\n",
       " 'extraData': HexBytes('0x'),\n",
       " 'size': 1000,\n",
       " 'gasLimit': 6721975,\n",
       " 'gasUsed': 0,\n",
       " 'timestamp': 1654285967,\n",
       " 'transactions': [],\n",
       " 'uncles': []})"
      ]
     },
     "execution_count": 102,
     "metadata": {},
     "output_type": "execute_result"
    }
   ],
   "source": [
    "w3.eth.get_block('latest')"
   ]
  },
  {
   "cell_type": "code",
   "execution_count": 103,
   "metadata": {},
   "outputs": [],
   "source": [
    "accounts = w3.eth.accounts"
   ]
  },
  {
   "cell_type": "code",
   "execution_count": 104,
   "metadata": {},
   "outputs": [
    {
     "data": {
      "text/plain": [
       "\"\\nSample Transaction\\n    {\\n        transaction_id: int,\\n        customer_id: address_from_ganache,\\n        transaction_amount: int(in dollars),\\n        transaction_category: ['gas', 'restaurant',  'grocery', 'subscription', 'entertainment'],\\n        transaction_date: Date\\n    }\\n\""
      ]
     },
     "execution_count": 104,
     "metadata": {},
     "output_type": "execute_result"
    }
   ],
   "source": [
    "\"\"\"\n",
    "Sample Transaction\n",
    "    {\n",
    "        transaction_id: int,\n",
    "        customer_id: address_from_ganache,\n",
    "        transaction_amount: int(in dollars),\n",
    "        transaction_category: ['gas', 'restaurant',  'grocery', 'subscription', 'entertainment'],\n",
    "        transaction_date: Date\n",
    "    }\n",
    "\"\"\""
   ]
  },
  {
   "cell_type": "code",
   "execution_count": 105,
   "metadata": {},
   "outputs": [],
   "source": [
    "from random import choice\n",
    "import random\n",
    "from datetime import datetime\n",
    "from time import sleep\n",
    "txn_categories = ['gas', 'restaurant',  'grocery', 'subscription', 'entertainment']"
   ]
  },
  {
   "cell_type": "code",
   "execution_count": 106,
   "metadata": {},
   "outputs": [
    {
     "name": "stdout",
     "output_type": "stream",
     "text": [
      "{'id': 0, 'customer_id': '0x2817E682966221569aa0ca4ED3A766F93C05Ab31', 'amount': 79.72, 'category': 'entertainment', 'date': datetime.datetime(2022, 6, 3, 17, 30, 1, 64041)}\n",
      "{'id': 1, 'customer_id': '0x8Ebb6d04009aEB1e3885738E36af938D8de11ccD', 'amount': 64.65, 'category': 'grocery', 'date': datetime.datetime(2022, 6, 3, 17, 30, 2, 72960)}\n",
      "{'id': 2, 'customer_id': '0x3236b34A7414476cf77ac97C6B3F8429C2a5697A', 'amount': 34.79, 'category': 'restaurant', 'date': datetime.datetime(2022, 6, 3, 17, 30, 3, 85564)}\n",
      "{'id': 3, 'customer_id': '0x2817E682966221569aa0ca4ED3A766F93C05Ab31', 'amount': 46.07, 'category': 'entertainment', 'date': datetime.datetime(2022, 6, 3, 17, 30, 4, 100252)}\n",
      "{'id': 4, 'customer_id': '0x0008118041CCcfD3BB5506b1481eC7147f95A742', 'amount': 12.7, 'category': 'entertainment', 'date': datetime.datetime(2022, 6, 3, 17, 30, 5, 110176)}\n",
      "{'id': 5, 'customer_id': '0x3236b34A7414476cf77ac97C6B3F8429C2a5697A', 'amount': 40.75, 'category': 'subscription', 'date': datetime.datetime(2022, 6, 3, 17, 30, 6, 124819)}\n",
      "{'id': 6, 'customer_id': '0xCC0c4a7dB59F3cE7669cAECDb997209A5CC62A62', 'amount': 73.22, 'category': 'subscription', 'date': datetime.datetime(2022, 6, 3, 17, 30, 7, 135716)}\n",
      "{'id': 7, 'customer_id': '0xDDF64d38E0Ebd6948DdD850191b0ec409b0fFD1f', 'amount': 24.94, 'category': 'gas', 'date': datetime.datetime(2022, 6, 3, 17, 30, 8, 147941)}\n",
      "{'id': 8, 'customer_id': '0x843BAa82890d652606b7d0890Fa51E9E41c42f0A', 'amount': 28.18, 'category': 'grocery', 'date': datetime.datetime(2022, 6, 3, 17, 30, 9, 159882)}\n",
      "{'id': 9, 'customer_id': '0x3236b34A7414476cf77ac97C6B3F8429C2a5697A', 'amount': 47.6, 'category': 'restaurant', 'date': datetime.datetime(2022, 6, 3, 17, 30, 10, 169559)}\n",
      "{'id': 10, 'customer_id': '0x2817E682966221569aa0ca4ED3A766F93C05Ab31', 'amount': 79.33, 'category': 'subscription', 'date': datetime.datetime(2022, 6, 3, 17, 30, 11, 176100)}\n",
      "{'id': 11, 'customer_id': '0x3236b34A7414476cf77ac97C6B3F8429C2a5697A', 'amount': 25.34, 'category': 'gas', 'date': datetime.datetime(2022, 6, 3, 17, 30, 12, 190385)}\n",
      "{'id': 12, 'customer_id': '0x8Ebb6d04009aEB1e3885738E36af938D8de11ccD', 'amount': 16.59, 'category': 'restaurant', 'date': datetime.datetime(2022, 6, 3, 17, 30, 13, 202176)}\n",
      "{'id': 13, 'customer_id': '0xFEB9CB9794985A52377e0b0FF91FEa0cB25DC1B4', 'amount': 94.63, 'category': 'subscription', 'date': datetime.datetime(2022, 6, 3, 17, 30, 14, 216678)}\n",
      "{'id': 14, 'customer_id': '0xDDF64d38E0Ebd6948DdD850191b0ec409b0fFD1f', 'amount': 79.35, 'category': 'restaurant', 'date': datetime.datetime(2022, 6, 3, 17, 30, 15, 224203)}\n",
      "{'id': 15, 'customer_id': '0x0008118041CCcfD3BB5506b1481eC7147f95A742', 'amount': 83.06, 'category': 'restaurant', 'date': datetime.datetime(2022, 6, 3, 17, 30, 16, 233218)}\n",
      "{'id': 16, 'customer_id': '0xDDF64d38E0Ebd6948DdD850191b0ec409b0fFD1f', 'amount': 41.98, 'category': 'gas', 'date': datetime.datetime(2022, 6, 3, 17, 30, 17, 246187)}\n",
      "{'id': 17, 'customer_id': '0x0008118041CCcfD3BB5506b1481eC7147f95A742', 'amount': 63.95, 'category': 'grocery', 'date': datetime.datetime(2022, 6, 3, 17, 30, 18, 259217)}\n",
      "{'id': 18, 'customer_id': '0xFEB9CB9794985A52377e0b0FF91FEa0cB25DC1B4', 'amount': 78.9, 'category': 'entertainment', 'date': datetime.datetime(2022, 6, 3, 17, 30, 19, 270079)}\n",
      "{'id': 19, 'customer_id': '0x6a794e27C15f84c964673F8BE5df64f8B3592C70', 'amount': 85.3, 'category': 'subscription', 'date': datetime.datetime(2022, 6, 3, 17, 30, 20, 284806)}\n",
      "{'id': 20, 'customer_id': '0x6a794e27C15f84c964673F8BE5df64f8B3592C70', 'amount': 51.74, 'category': 'restaurant', 'date': datetime.datetime(2022, 6, 3, 17, 30, 21, 291085)}\n",
      "{'id': 21, 'customer_id': '0xA5Abc74d7865e46df0058f39F74D8e146ac72F47', 'amount': 16.14, 'category': 'restaurant', 'date': datetime.datetime(2022, 6, 3, 17, 30, 22, 293586)}\n",
      "{'id': 22, 'customer_id': '0x3236b34A7414476cf77ac97C6B3F8429C2a5697A', 'amount': 56.12, 'category': 'subscription', 'date': datetime.datetime(2022, 6, 3, 17, 30, 23, 316366)}\n",
      "{'id': 23, 'customer_id': '0xA5Abc74d7865e46df0058f39F74D8e146ac72F47', 'amount': 75.79, 'category': 'restaurant', 'date': datetime.datetime(2022, 6, 3, 17, 30, 24, 316474)}\n",
      "{'id': 24, 'customer_id': '0x843BAa82890d652606b7d0890Fa51E9E41c42f0A', 'amount': 16.07, 'category': 'entertainment', 'date': datetime.datetime(2022, 6, 3, 17, 30, 25, 326099)}\n",
      "{'id': 25, 'customer_id': '0x0008118041CCcfD3BB5506b1481eC7147f95A742', 'amount': 87.21, 'category': 'gas', 'date': datetime.datetime(2022, 6, 3, 17, 30, 26, 339194)}\n",
      "{'id': 26, 'customer_id': '0x843BAa82890d652606b7d0890Fa51E9E41c42f0A', 'amount': 4.54, 'category': 'grocery', 'date': datetime.datetime(2022, 6, 3, 17, 30, 27, 341964)}\n",
      "{'id': 27, 'customer_id': '0xFEB9CB9794985A52377e0b0FF91FEa0cB25DC1B4', 'amount': 24.18, 'category': 'grocery', 'date': datetime.datetime(2022, 6, 3, 17, 30, 28, 350550)}\n",
      "{'id': 28, 'customer_id': '0x8Ebb6d04009aEB1e3885738E36af938D8de11ccD', 'amount': 37.54, 'category': 'subscription', 'date': datetime.datetime(2022, 6, 3, 17, 30, 29, 353691)}\n",
      "{'id': 29, 'customer_id': '0xFEB9CB9794985A52377e0b0FF91FEa0cB25DC1B4', 'amount': 59.04, 'category': 'restaurant', 'date': datetime.datetime(2022, 6, 3, 17, 30, 30, 364354)}\n",
      "{'id': 30, 'customer_id': '0x8Ebb6d04009aEB1e3885738E36af938D8de11ccD', 'amount': 10.92, 'category': 'gas', 'date': datetime.datetime(2022, 6, 3, 17, 30, 31, 375697)}\n",
      "{'id': 31, 'customer_id': '0xA5Abc74d7865e46df0058f39F74D8e146ac72F47', 'amount': 90.55, 'category': 'subscription', 'date': datetime.datetime(2022, 6, 3, 17, 30, 32, 387782)}\n",
      "{'id': 32, 'customer_id': '0x0008118041CCcfD3BB5506b1481eC7147f95A742', 'amount': 22.3, 'category': 'subscription', 'date': datetime.datetime(2022, 6, 3, 17, 30, 33, 401801)}\n",
      "{'id': 33, 'customer_id': '0x6a794e27C15f84c964673F8BE5df64f8B3592C70', 'amount': 99.43, 'category': 'gas', 'date': datetime.datetime(2022, 6, 3, 17, 30, 34, 405072)}\n",
      "{'id': 34, 'customer_id': '0x0008118041CCcfD3BB5506b1481eC7147f95A742', 'amount': 23.54, 'category': 'gas', 'date': datetime.datetime(2022, 6, 3, 17, 30, 35, 414764)}\n",
      "{'id': 35, 'customer_id': '0xFEB9CB9794985A52377e0b0FF91FEa0cB25DC1B4', 'amount': 99.45, 'category': 'entertainment', 'date': datetime.datetime(2022, 6, 3, 17, 30, 36, 424724)}\n",
      "{'id': 36, 'customer_id': '0x8Ebb6d04009aEB1e3885738E36af938D8de11ccD', 'amount': 72.36, 'category': 'restaurant', 'date': datetime.datetime(2022, 6, 3, 17, 30, 37, 438209)}\n",
      "{'id': 37, 'customer_id': '0x8Ebb6d04009aEB1e3885738E36af938D8de11ccD', 'amount': 36.95, 'category': 'entertainment', 'date': datetime.datetime(2022, 6, 3, 17, 30, 38, 439272)}\n",
      "{'id': 38, 'customer_id': '0xFEB9CB9794985A52377e0b0FF91FEa0cB25DC1B4', 'amount': 58.89, 'category': 'entertainment', 'date': datetime.datetime(2022, 6, 3, 17, 30, 39, 445524)}\n",
      "{'id': 39, 'customer_id': '0x843BAa82890d652606b7d0890Fa51E9E41c42f0A', 'amount': 37.36, 'category': 'grocery', 'date': datetime.datetime(2022, 6, 3, 17, 30, 40, 458342)}\n",
      "{'id': 40, 'customer_id': '0x8Ebb6d04009aEB1e3885738E36af938D8de11ccD', 'amount': 82.49, 'category': 'subscription', 'date': datetime.datetime(2022, 6, 3, 17, 30, 41, 466875)}\n",
      "{'id': 41, 'customer_id': '0x0008118041CCcfD3BB5506b1481eC7147f95A742', 'amount': 25.31, 'category': 'entertainment', 'date': datetime.datetime(2022, 6, 3, 17, 30, 42, 477172)}\n",
      "{'id': 42, 'customer_id': '0xA5Abc74d7865e46df0058f39F74D8e146ac72F47', 'amount': 18.13, 'category': 'gas', 'date': datetime.datetime(2022, 6, 3, 17, 30, 43, 487752)}\n",
      "{'id': 43, 'customer_id': '0x6a794e27C15f84c964673F8BE5df64f8B3592C70', 'amount': 26.39, 'category': 'gas', 'date': datetime.datetime(2022, 6, 3, 17, 30, 44, 488804)}\n",
      "{'id': 44, 'customer_id': '0x0008118041CCcfD3BB5506b1481eC7147f95A742', 'amount': 76.58, 'category': 'gas', 'date': datetime.datetime(2022, 6, 3, 17, 30, 45, 497018)}\n",
      "{'id': 45, 'customer_id': '0x8Ebb6d04009aEB1e3885738E36af938D8de11ccD', 'amount': 75.67, 'category': 'grocery', 'date': datetime.datetime(2022, 6, 3, 17, 30, 46, 509286)}\n",
      "{'id': 46, 'customer_id': '0xCC0c4a7dB59F3cE7669cAECDb997209A5CC62A62', 'amount': 0.54, 'category': 'restaurant', 'date': datetime.datetime(2022, 6, 3, 17, 30, 47, 517346)}\n",
      "{'id': 47, 'customer_id': '0x2817E682966221569aa0ca4ED3A766F93C05Ab31', 'amount': 51.1, 'category': 'subscription', 'date': datetime.datetime(2022, 6, 3, 17, 30, 48, 531131)}\n",
      "{'id': 48, 'customer_id': '0x8Ebb6d04009aEB1e3885738E36af938D8de11ccD', 'amount': 63.28, 'category': 'subscription', 'date': datetime.datetime(2022, 6, 3, 17, 30, 49, 535403)}\n",
      "{'id': 49, 'customer_id': '0xA5Abc74d7865e46df0058f39F74D8e146ac72F47', 'amount': 49.58, 'category': 'gas', 'date': datetime.datetime(2022, 6, 3, 17, 30, 50, 548074)}\n"
     ]
    }
   ],
   "source": [
    "customer_totals = {}\n",
    "\n",
    "for i in range(50):\n",
    "    tx = {}\n",
    "    tx['id'] = i\n",
    "    tx['customer_id'] = choice(accounts)\n",
    "    tx['amount'] = round(random.uniform(0.5, 99.5), 2)\n",
    "    tx['category'] = choice(txn_categories)\n",
    "    tx['date'] = datetime.now()\n",
    "    try:\n",
    "        customer_totals[tx['customer_id']] = customer_totals[tx['customer_id']] + tx['amount']\n",
    "    except KeyError:\n",
    "        customer_totals[tx['customer_id']] = tx['amount']\n",
    "    sleep(1)\n",
    "    print(tx)"
   ]
  },
  {
   "cell_type": "code",
   "execution_count": 107,
   "metadata": {},
   "outputs": [
    {
     "data": {
      "text/plain": [
       "2550.2400000000002"
      ]
     },
     "execution_count": 107,
     "metadata": {},
     "output_type": "execute_result"
    }
   ],
   "source": [
    "# Generate total amount spent in all transactions\n",
    "\n",
    "total_amount = sum(customer_totals.values())\n",
    "total_amount"
   ]
  }
 ],
 "metadata": {
  "interpreter": {
   "hash": "29eeb695593140814128721f2f98aa28c822a5a72dc66fe4d74eced58cdee221"
  },
  "kernelspec": {
   "display_name": "Python 3.7.11",
   "language": "python",
   "name": "python3"
  },
  "language_info": {
   "codemirror_mode": {
    "name": "ipython",
    "version": 3
   },
   "file_extension": ".py",
   "mimetype": "text/x-python",
   "name": "python",
   "nbconvert_exporter": "python",
   "pygments_lexer": "ipython3",
   "version": "3.7.11"
  }
 },
 "nbformat": 4,
 "nbformat_minor": 4
}
